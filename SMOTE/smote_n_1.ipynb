{
 "cells": [
  {
   "cell_type": "code",
   "execution_count": 12,
   "metadata": {},
   "outputs": [],
   "source": [
    "import random\n",
    "from sklearn.neighbors import NearestNeighbors\n",
    "import numpy as np"
   ]
  },
  {
   "cell_type": "code",
   "execution_count": 13,
   "metadata": {},
   "outputs": [],
   "source": [
    "class Smote(object):\n",
    "    \"\"\"\n",
    "    SMOTE algorithm implementation.\n",
    "    Parameters\n",
    "    ----------\n",
    "    samples : {array-like}, shape = [n_samples, n_features]\n",
    "        Training vector, where n_samples in the number of samples and\n",
    "        n_features is the number of features.\n",
    "    N : int, optional (default = 50)\n",
    "        Parameter N, the percentage of n_samples, affects the amount of final \n",
    "        synthetic samples，which calculated by floor(N/100)*T.\n",
    "    k : int, optional (default = 5)\n",
    "        Specify the number for NearestNeighbors algorithms.\n",
    "        knn参数\n",
    "    r : int, optional (default = 2)\n",
    "        Parameter for sklearn.neighbors.NearestNeighbors API.When r = 1, this \n",
    "        is equivalent to using manhattan_distance (l1), and euclidean_distance \n",
    "        (l2) for r = 2. For arbitrary p, minkowski_distance (l_r) is used.\n",
    "    Examples\n",
    "    --------\n",
    "      >>> samples = np.array([[3,1,2], [4,3,3], [1,3,4],\n",
    "                              [3,3,2], [2,2,1], [1,4,3]])\n",
    "      >>> smote = Smote(N=200)\n",
    "      >>> synthetic_points = smote.fit(samples)\n",
    "      >>> print(synthetic_points)\n",
    "      [[3.31266454 1.62532908 2.31266454]\n",
    "       [2.4178394  1.5821606  2.5821606 ]\n",
    "       [3.354422   2.677211   2.354422  ]\n",
    "       [2.4169074  2.2084537  1.4169074 ]\n",
    "       [1.86018171 2.13981829 3.13981829]\n",
    "       [3.68440949 3.         3.10519684]\n",
    "       [2.22247957 3.         2.77752043]\n",
    "       [2.3339721  2.3339721  1.3339721 ]\n",
    "       [3.31504371 2.65752185 2.31504371]\n",
    "       [2.54247589 2.54247589 1.54247589]\n",
    "       [1.33577795 3.83211103 2.83211103]\n",
    "       [3.85206355 3.04931215 3.        ]]\n",
    "    \"\"\"\n",
    "    def __init__(self, N=50, k=5, r=2):\n",
    "        # 初始化self.N, self.k, self.r, self.newindex\n",
    "        self.N = N\n",
    "        self.k = k\n",
    "        # self.r是距离决定因子\n",
    "        self.r = r\n",
    "        # self.newindex用于记录SMOTE算法已合成的样本个数\n",
    "        self.newindex = 0\n",
    "        \n",
    "    # 构建训练函数\n",
    "    def fit(self, samples):\n",
    "        # 初始化self.samples, self.T, self.numattrs\n",
    "        self.samples = samples\n",
    "        # self.T是少数类样本个数，self.numattrs是少数类样本的特征个数\n",
    "        self.T, self.numattrs = self.samples.shape\n",
    "\n",
    "        # 查看N%是否小于100%\n",
    "        if(self.N < 100):\n",
    "            # 如果是，随机抽取N*T/100个样本，作为新的少数类样本\n",
    "            np.random.shuffle(self.samples)\n",
    "            self.T = int(self.N*self.T/100)\n",
    "            self.samples = self.samples[0:self.T,:]\n",
    "            # N%变成100%\n",
    "            self.N = 100\n",
    "\n",
    "        # 查看从T是否不大于近邻数k\n",
    "        if(self.T <= self.k):\n",
    "            # 若是，k更新为T-1\n",
    "            self.k = self.T - 1\n",
    "\n",
    "        # 令N是100的倍数\n",
    "        N = int(self.N/100)\n",
    "        # 创建保存合成样本的数组\n",
    "        self.synthetic = np.zeros((self.T * N, self.numattrs))\n",
    "\n",
    "        # 调用并设置k近邻函数\n",
    "        neighbors = NearestNeighbors(n_neighbors=self.k+1, \n",
    "                                     algorithm='ball_tree', \n",
    "                                     p=self.r).fit(self.samples)\n",
    "\n",
    "        # 对所有输入样本做循环\n",
    "        for i in range(len(self.samples)):\n",
    "            # 调用kneighbors方法搜索k近邻\n",
    "            nnarray = neighbors.kneighbors(self.samples[i].reshape((1,-1)),\n",
    "                                           return_distance=False)[0][1:]\n",
    "\n",
    "            # 把N,i,nnarray输入样本合成函数self.__populate\n",
    "            self.__populate(N, i, nnarray)\n",
    "\n",
    "        # 最后返回合成样本self.synthetic\n",
    "        return self.synthetic\n",
    "    \n",
    "    # 构建合成样本函数\n",
    "    def __populate(self, N, i, nnarray):\n",
    "        # 按照倍数N做循环\n",
    "        for j in range(N):\n",
    "            # attrs用于保存合成样本的特征\n",
    "            attrs = []\n",
    "            # 随机抽取1～k之间的一个整数，即选择k近邻中的一个样本用于合成数据\n",
    "            nn = random.randint(0, self.k-1)\n",
    "            \n",
    "            # 计算差值\n",
    "            diff = self.samples[nnarray[nn]] - self.samples[i]\n",
    "            # 随机生成一个0～1之间的数\n",
    "            gap = random.uniform(0,1)\n",
    "            # 合成的新样本放入数组self.synthetic\n",
    "            self.synthetic[self.newindex] = self.samples[i] + gap*diff\n",
    "\n",
    "            # self.newindex加1， 表示已合成的样本又多了1个\n",
    "            self.newindex += 1"
   ]
  },
  {
   "cell_type": "markdown",
   "metadata": {},
   "source": [
    "数据加载"
   ]
  },
  {
   "cell_type": "code",
   "execution_count": 14,
   "metadata": {},
   "outputs": [],
   "source": [
    "import numpy as np \n",
    "import pandas as pd "
   ]
  },
  {
   "cell_type": "code",
   "execution_count": 15,
   "metadata": {},
   "outputs": [
    {
     "name": "stdout",
     "output_type": "stream",
     "text": [
      "==> Preparing data..\n"
     ]
    }
   ],
   "source": [
    "print('==> Preparing data..')\n",
    "train_url = \"E:\\exercise_4\\Kmeans/t_n_fequence_feature0328\\SMOTE/n_1_fequence_feature_ -label.csv\" \n",
    "names = ['feature0','feature1','feature2','feature3','feature4','feature5',\n",
    "'feature6','feature7','feature8','feature9','feature10','feature11',\n",
    "'feature12','feature13','feature14','feature15',\n",
    "'feature16','feature17','class'] \n",
    "train_dataset = pd.read_csv(train_url, names=names)\n",
    "train_array = train_dataset.values\n",
    "x_train = train_array[:,0:18]\n",
    "y_train = train_array[:,18]"
   ]
  },
  {
   "cell_type": "code",
   "execution_count": 16,
   "metadata": {},
   "outputs": [],
   "source": [
    "samples = x_train"
   ]
  },
  {
   "cell_type": "code",
   "execution_count": 17,
   "metadata": {},
   "outputs": [
    {
     "data": {
      "text/plain": [
       "array([[-1.26106400e-03, -5.01073600e-03, -5.52621000e-04,\n",
       "        -4.34071400e-03, -5.12000000e-05, -3.48188600e-03,\n",
       "        -4.90536004e+00,  3.20570691e+00,  1.05363714e+01,\n",
       "         2.07843943e+00,  1.16222924e+01,  3.82053233e+00,\n",
       "         1.14965013e+02,  3.29576018e+01,  7.78129554e+01,\n",
       "         3.18224164e+04,  3.22915433e+00,  1.32940091e+01],\n",
       "       [ 1.16653100e-03,  6.69205800e-03,  3.89057480e-02,\n",
       "         3.29165830e-02,  5.24922370e-02,  5.59086720e-02,\n",
       "        -3.05183184e-01,  3.63994174e+00,  2.85465053e+00,\n",
       "         3.54846669e+00,  2.87091735e+00,  5.08338389e+00,\n",
       "         9.61021640e+01,  4.42709302e+01,  6.40520202e+01,\n",
       "         2.56828570e+04,  3.68888023e+00,  1.68534842e+01],\n",
       "       [ 1.29123000e-04, -1.82779800e-03,  2.18076220e-02,\n",
       "         1.30501860e-02,  2.93111460e-02,  2.63540610e-02,\n",
       "        -6.38400322e+00,  1.45579581e+00,  6.41837706e+00,\n",
       "         1.23804596e+01,  9.05268254e+00,  1.24657579e+01,\n",
       "         1.34846164e+02,  8.32934902e+01,  7.55561870e+01,\n",
       "         3.23450358e+04,  3.20942953e+00,  1.31300846e+01],\n",
       "       [ 4.76531000e-04,  1.50070600e-03,  2.58134300e-02,\n",
       "         1.87962190e-02,  3.48822450e-02,  3.40038580e-02,\n",
       "        -8.08008515e-01,  2.94326898e+00,  6.37422306e+00,\n",
       "         6.41100899e+00,  6.42523131e+00,  7.05435104e+00,\n",
       "         9.72243901e+01,  6.53403311e+01,  8.74636329e+01,\n",
       "         3.80249809e+04,  2.85010696e+00,  1.07275512e+01],\n",
       "       [-4.60681000e-04, -3.14960500e-03,  1.88310770e-02,\n",
       "         9.62674700e-03,  2.58995430e-02,  2.09222210e-02,\n",
       "        -8.55897215e+00, -2.78002059e+00,  5.67919699e+00,\n",
       "         6.44440836e+00,  1.02717712e+01,  7.01846946e+00,\n",
       "         1.46434244e+02,  1.13334639e+02,  5.91531247e+01,\n",
       "         2.18945838e+04,  4.06104610e+00,  2.01649423e+01],\n",
       "       [ 1.26464400e-03,  7.60717600e-03,  3.35959290e-02,\n",
       "         2.99191810e-02,  4.53655960e-02,  4.93793900e-02,\n",
       "        -3.59919846e+00,  1.34461272e+00,  4.68307718e+00,\n",
       "         1.07589088e+01,  5.90638988e+00,  1.08426059e+01,\n",
       "         1.27544229e+02,  8.28762991e+01,  1.06981759e+02,\n",
       "         4.32985683e+04,  2.53969336e+00,  8.97188531e+00],\n",
       "       [ 6.99845000e-04,  4.60589800e-03,  3.83761470e-02,\n",
       "         3.08686730e-02,  5.20038920e-02,  5.40184360e-02,\n",
       "         8.38136935e-01,  3.71290965e+00,  6.37295183e+00,\n",
       "         9.73100270e+00,  6.42782922e+00,  1.04152826e+01,\n",
       "         8.25077601e+01,  6.91154121e+01,  9.85036106e+01,\n",
       "         4.12465698e+04,  2.66052229e+00,  9.61761086e+00],\n",
       "       [ 3.35000000e-05,  8.28995000e-04,  1.65838250e-02,\n",
       "         1.23625000e-02,  2.26190900e-02,  2.25814430e-02,\n",
       "        -1.40610893e+00,  1.81421131e+00,  6.01262305e+00,\n",
       "         5.68476956e+00,  6.17485046e+00,  5.96724121e+00,\n",
       "         1.03162609e+02,  7.23002752e+01,  9.07897609e+01,\n",
       "         3.89651277e+04,  2.79270295e+00,  1.03887373e+01],\n",
       "       [ 2.25316000e-04,  9.89843000e-04,  2.59801690e-02,\n",
       "         1.87958880e-02,  3.52369150e-02,  3.45557240e-02,\n",
       "         1.29971278e-01,  3.07307131e+00,  7.33299025e+00,\n",
       "         7.70186970e+00,  7.33414198e+00,  8.29231959e+00,\n",
       "         8.89845853e+01,  6.82478381e+01,  1.05347511e+02,\n",
       "         4.44634133e+04,  2.50141288e+00,  8.73035579e+00]])"
      ]
     },
     "execution_count": 17,
     "metadata": {},
     "output_type": "execute_result"
    }
   ],
   "source": [
    "samples"
   ]
  },
  {
   "cell_type": "code",
   "execution_count": 18,
   "metadata": {},
   "outputs": [
    {
     "name": "stdout",
     "output_type": "stream",
     "text": [
      "[[-9.63449089e-04 -3.89545756e-03  3.96335075e-03 ...  3.28847904e+04\n",
      "   3.16423118e+00  1.28544267e+01]\n",
      " [ 2.70845322e-04  2.37419403e-03  2.43471845e-02 ...  2.79481094e+04\n",
      "   3.51925972e+00  1.55401800e+01]\n",
      " [ 4.83187604e-04  3.39784006e-03  2.77986169e-02 ...  2.74110807e+04\n",
      "   3.55947205e+00  1.58515281e+01]\n",
      " ...\n",
      " [ 7.94536877e-04  4.61403488e-03  3.01511810e-02 ...  4.38254491e+04\n",
      "   2.52237840e+00  8.86263708e+00]\n",
      " [ 2.16393729e-04  9.82361198e-04  2.55431005e-02 ...  4.42076620e+04\n",
      "   2.51496216e+00  8.80749497e+00]\n",
      " [ 6.25985572e-04  4.04306675e-03  3.64467394e-02 ...  4.17472647e+04\n",
      "   2.63575725e+00  9.47951150e+00]]\n"
     ]
    }
   ],
   "source": [
    "smote = Smote(N=5000)\n",
    "synthetic_points = smote.fit(samples)\n",
    "print(synthetic_points)"
   ]
  },
  {
   "cell_type": "markdown",
   "metadata": {},
   "source": [
    "保存数据"
   ]
  },
  {
   "cell_type": "code",
   "execution_count": 19,
   "metadata": {},
   "outputs": [],
   "source": [
    "n_1 = np.vstack((samples,synthetic_points))"
   ]
  },
  {
   "cell_type": "code",
   "execution_count": 20,
   "metadata": {},
   "outputs": [],
   "source": [
    "np.savetxt('E:\\exercise_4\\Kmeans/t_n_fequence_feature0328\\SMOTE/result/n_1_smote_fequence_feature.csv', n_1, delimiter = ',')"
   ]
  },
  {
   "cell_type": "markdown",
   "metadata": {},
   "source": [
    "画图"
   ]
  },
  {
   "cell_type": "code",
   "execution_count": 21,
   "metadata": {},
   "outputs": [],
   "source": [
    "from sklearn.manifold import TSNE \n",
    "\n",
    "#使用TSNE进行降维可视化操作 降为二维\n",
    "tsne=TSNE(2) \n",
    "samples_plot =tsne.fit_transform(samples)\n",
    "synthetic_points_plot =tsne.fit_transform(synthetic_points)"
   ]
  },
  {
   "cell_type": "code",
   "execution_count": 22,
   "metadata": {},
   "outputs": [
    {
     "data": {
      "text/plain": [
       "<matplotlib.legend.Legend at 0x1f0cc0d6470>"
      ]
     },
     "execution_count": 22,
     "metadata": {},
     "output_type": "execute_result"
    },
    {
     "data": {
      "image/png": "[encoded data removed]",
      "text/plain": [
       "<Figure size 432x288 with 1 Axes>"
      ]
     },
     "metadata": {
      "needs_background": "light"
     },
     "output_type": "display_data"
    }
   ],
   "source": [
    "import matplotlib.pyplot as plt\n",
    "\n",
    "plt.scatter(samples_plot[:,0], samples_plot[:,1])\n",
    "plt.scatter(synthetic_points_plot[:,0], synthetic_points_plot[:,1])\n",
    "plt.legend([\"minority samples\", \"synthetic samples\"])"
   ]
  }
 ],
 "metadata": {
  "interpreter": {
   "hash": "1f8b6ba03da8c1183842b1618cc08da02dfa809c0bdf2baf79f27c6650c5e257"
  },
  "kernelspec": {
   "display_name": "Python 3.6.12 ('pytorch1.6')",
   "language": "python",
   "name": "python3"
  },
  "language_info": {
   "codemirror_mode": {
    "name": "ipython",
    "version": 3
   },
   "file_extension": ".py",
   "mimetype": "text/x-python",
   "name": "python",
   "nbconvert_exporter": "python",
   "pygments_lexer": "ipython3",
   "version": "3.6.12"
  },
  "orig_nbformat": 4
 },
 "nbformat": 4,
 "nbformat_minor": 2
}
