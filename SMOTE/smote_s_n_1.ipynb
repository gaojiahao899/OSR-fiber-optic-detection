{
 "cells": [
  {
   "cell_type": "code",
   "execution_count": 1,
   "metadata": {},
   "outputs": [],
   "source": [
    "import random\n",
    "from sklearn.neighbors import NearestNeighbors\n",
    "import numpy as np"
   ]
  },
  {
   "cell_type": "code",
   "execution_count": 2,
   "metadata": {},
   "outputs": [],
   "source": [
    "class Smote(object):\n",
    "    \"\"\"\n",
    "    SMOTE algorithm implementation.\n",
    "    Parameters\n",
    "    ----------\n",
    "    samples : {array-like}, shape = [n_samples, n_features]\n",
    "        Training vector, where n_samples in the number of samples and\n",
    "        n_features is the number of features.\n",
    "    N : int, optional (default = 50)\n",
    "        Parameter N, the percentage of n_samples, affects the amount of final \n",
    "        synthetic samples，which calculated by floor(N/100)*T.\n",
    "    k : int, optional (default = 5)\n",
    "        Specify the number for NearestNeighbors algorithms.\n",
    "        knn参数\n",
    "    r : int, optional (default = 2)\n",
    "        Parameter for sklearn.neighbors.NearestNeighbors API.When r = 1, this \n",
    "        is equivalent to using manhattan_distance (l1), and euclidean_distance \n",
    "        (l2) for r = 2. For arbitrary p, minkowski_distance (l_r) is used.\n",
    "    Examples\n",
    "    --------\n",
    "      >>> samples = np.array([[3,1,2], [4,3,3], [1,3,4],\n",
    "                              [3,3,2], [2,2,1], [1,4,3]])\n",
    "      >>> smote = Smote(N=200)\n",
    "      >>> synthetic_points = smote.fit(samples)\n",
    "      >>> print(synthetic_points)\n",
    "      [[3.31266454 1.62532908 2.31266454]\n",
    "       [2.4178394  1.5821606  2.5821606 ]\n",
    "       [3.354422   2.677211   2.354422  ]\n",
    "       [2.4169074  2.2084537  1.4169074 ]\n",
    "       [1.86018171 2.13981829 3.13981829]\n",
    "       [3.68440949 3.         3.10519684]\n",
    "       [2.22247957 3.         2.77752043]\n",
    "       [2.3339721  2.3339721  1.3339721 ]\n",
    "       [3.31504371 2.65752185 2.31504371]\n",
    "       [2.54247589 2.54247589 1.54247589]\n",
    "       [1.33577795 3.83211103 2.83211103]\n",
    "       [3.85206355 3.04931215 3.        ]]\n",
    "    \"\"\"\n",
    "    def __init__(self, N=50, k=5, r=2):\n",
    "        # 初始化self.N, self.k, self.r, self.newindex\n",
    "        self.N = N\n",
    "        self.k = k\n",
    "        # self.r是距离决定因子\n",
    "        self.r = r\n",
    "        # self.newindex用于记录SMOTE算法已合成的样本个数\n",
    "        self.newindex = 0\n",
    "        \n",
    "    # 构建训练函数\n",
    "    def fit(self, samples):\n",
    "        # 初始化self.samples, self.T, self.numattrs\n",
    "        self.samples = samples\n",
    "        # self.T是少数类样本个数，self.numattrs是少数类样本的特征个数\n",
    "        self.T, self.numattrs = self.samples.shape\n",
    "\n",
    "        # 查看N%是否小于100%\n",
    "        if(self.N < 100):\n",
    "            # 如果是，随机抽取N*T/100个样本，作为新的少数类样本\n",
    "            np.random.shuffle(self.samples)\n",
    "            self.T = int(self.N*self.T/100)\n",
    "            self.samples = self.samples[0:self.T,:]\n",
    "            # N%变成100%\n",
    "            self.N = 100\n",
    "\n",
    "        # 查看从T是否不大于近邻数k\n",
    "        if(self.T <= self.k):\n",
    "            # 若是，k更新为T-1\n",
    "            self.k = self.T - 1\n",
    "\n",
    "        # 令N是100的倍数\n",
    "        N = int(self.N/100)\n",
    "        # 创建保存合成样本的数组\n",
    "        self.synthetic = np.zeros((self.T * N, self.numattrs))\n",
    "\n",
    "        # 调用并设置k近邻函数\n",
    "        neighbors = NearestNeighbors(n_neighbors=self.k+1, \n",
    "                                     algorithm='ball_tree', \n",
    "                                     p=self.r).fit(self.samples)\n",
    "\n",
    "        # 对所有输入样本做循环\n",
    "        for i in range(len(self.samples)):\n",
    "            # 调用kneighbors方法搜索k近邻\n",
    "            nnarray = neighbors.kneighbors(self.samples[i].reshape((1,-1)),\n",
    "                                           return_distance=False)[0][1:]\n",
    "\n",
    "            # 把N,i,nnarray输入样本合成函数self.__populate\n",
    "            self.__populate(N, i, nnarray)\n",
    "\n",
    "        # 最后返回合成样本self.synthetic\n",
    "        return self.synthetic\n",
    "    \n",
    "    # 构建合成样本函数\n",
    "    def __populate(self, N, i, nnarray):\n",
    "        # 按照倍数N做循环\n",
    "        for j in range(N):\n",
    "            # attrs用于保存合成样本的特征\n",
    "            attrs = []\n",
    "            # 随机抽取1～k之间的一个整数，即选择k近邻中的一个样本用于合成数据\n",
    "            nn = random.randint(0, self.k-1)\n",
    "            \n",
    "            # 计算差值\n",
    "            diff = self.samples[nnarray[nn]] - self.samples[i]\n",
    "            # 随机生成一个0～1之间的数\n",
    "            gap = random.uniform(0,1)\n",
    "            # 合成的新样本放入数组self.synthetic\n",
    "            self.synthetic[self.newindex] = self.samples[i] + gap*diff\n",
    "\n",
    "            # self.newindex加1， 表示已合成的样本又多了1个\n",
    "            self.newindex += 1"
   ]
  },
  {
   "cell_type": "markdown",
   "metadata": {},
   "source": [
    "数据加载"
   ]
  },
  {
   "cell_type": "code",
   "execution_count": 3,
   "metadata": {},
   "outputs": [],
   "source": [
    "import numpy as np \n",
    "import pandas as pd "
   ]
  },
  {
   "cell_type": "code",
   "execution_count": 4,
   "metadata": {},
   "outputs": [
    {
     "name": "stdout",
     "output_type": "stream",
     "text": [
      "==> Preparing data..\n"
     ]
    }
   ],
   "source": [
    "print('==> Preparing data..')\n",
    "train_url = \"E:\\exercise_4\\Kmeans/t_n_fequence_feature0328\\SMOTE\\s_n_1_fequence_feature_-label .csv\" \n",
    "names = ['feature0','feature1','feature2','feature3','feature4','feature5',\n",
    "'feature6','feature7','feature8','feature9','feature10','feature11',\n",
    "'feature12','feature13','feature14','feature15',\n",
    "'feature16','feature17','class'] \n",
    "train_dataset = pd.read_csv(train_url, names=names)\n",
    "train_array = train_dataset.values\n",
    "x_train = train_array[:,0:18]\n",
    "y_train = train_array[:,18]"
   ]
  },
  {
   "cell_type": "code",
   "execution_count": 5,
   "metadata": {},
   "outputs": [],
   "source": [
    "samples = x_train"
   ]
  },
  {
   "cell_type": "code",
   "execution_count": 6,
   "metadata": {},
   "outputs": [
    {
     "data": {
      "text/plain": [
       "array([[-1.87692000e-03, -1.78555850e-02, -7.34183480e-02,\n",
       "        -6.86781670e-02, -9.98475530e-02, -1.13514948e-01,\n",
       "         1.28546120e-02,  8.07515700e-02,  7.18866095e-01,\n",
       "         5.55756390e-01,  7.18981017e-01,  5.61592362e-01,\n",
       "         8.89755582e+01,  8.17327618e+01,  7.53685687e+01,\n",
       "         3.05311346e+04,  3.32517486e+00,  1.39669521e+01],\n",
       "       [-2.52950800e-03, -2.10301590e-02, -1.56379930e-02,\n",
       "        -3.20805320e-02, -2.05495080e-02, -4.17419170e-02,\n",
       "        -3.31795740e-02,  6.17192200e-03,  2.23599446e-01,\n",
       "         1.07799708e-01,  2.26047775e-01,  1.07976246e-01,\n",
       "         9.84404407e+01,  8.67231874e+01,  1.48258032e+02,\n",
       "         4.18050289e+04,  2.43200398e+00,  9.02879868e+00],\n",
       "       [-2.48217700e-03, -2.09334750e-02, -1.03396499e-01,\n",
       "        -9.21474000e-02, -1.40366836e-01, -1.54963882e-01,\n",
       "        -7.23725050e-02,  7.60129040e-02,  1.15387276e+00,\n",
       "         1.04771654e+00,  1.15614019e+00,  1.05047033e+00,\n",
       "         9.35889696e+01,  8.58504032e+01,  3.86240571e+01,\n",
       "         1.42791394e+04,  5.35509646e+00,  3.34996604e+01],\n",
       "       [-3.34406200e-03, -2.89785990e-02, -1.42530914e-01,\n",
       "        -1.27831139e-01, -1.93356533e-01, -2.15298112e-01,\n",
       "         8.29998730e-02,  1.91586685e-01,  1.66929135e+00,\n",
       "         1.53514253e+00,  1.67135352e+00,  1.54705141e+00,\n",
       "         8.71535051e+01,  8.28862338e+01,  5.59755835e+01,\n",
       "         2.22351949e+04,  4.10653660e+00,  2.03717228e+01],\n",
       "       [-2.00376700e-03, -1.65303790e-02, -6.97883460e-02,\n",
       "        -6.46886560e-02, -9.45999250e-02, -1.07211146e-01,\n",
       "        -4.98603950e-02,  3.35756380e-02,  7.57086961e-01,\n",
       "         6.06638762e-01,  7.58727042e-01,  6.07567207e-01,\n",
       "         9.37679564e+01,  8.68320824e+01,  6.54103738e+01,\n",
       "         2.64340759e+04,  3.67158434e+00,  1.66328473e+01],\n",
       "       [-2.65488300e-03, -2.63383310e-02, -1.17778222e-01,\n",
       "        -1.08575634e-01, -1.60107871e-01, -1.81392673e-01,\n",
       "        -2.46094311e-01,  2.36084742e-01,  1.68111579e+00,\n",
       "         1.28692830e+00,  1.69903288e+00,  1.30840378e+00,\n",
       "         9.83282318e+01,  7.96047723e+01,  6.36279085e+01,\n",
       "         2.54759348e+04,  3.76048423e+00,  1.73598423e+01]])"
      ]
     },
     "execution_count": 6,
     "metadata": {},
     "output_type": "execute_result"
    }
   ],
   "source": [
    "samples"
   ]
  },
  {
   "cell_type": "code",
   "execution_count": 7,
   "metadata": {},
   "outputs": [
    {
     "name": "stdout",
     "output_type": "stream",
     "text": [
      "[[-2.02900712e-03 -1.90086207e-02 -8.05827064e-02 ...  2.96711595e+04\n",
      "   3.40617251e+00  1.46308846e+01]\n",
      " [-2.89123499e-03 -2.55455290e-02 -1.21199621e-01 ...  2.47957006e+04\n",
      "   3.86537269e+00  1.83949181e+01]\n",
      " [-2.04179335e-03 -1.86940091e-02 -8.15844628e-02 ...  2.61040550e+04\n",
      "   3.87813000e+00  1.92877052e+01]\n",
      " ...\n",
      " [-2.95694607e-03 -2.74955448e-02 -1.28627180e-01 ...  2.40555377e+04\n",
      "   3.91215693e+00  1.86799317e+01]\n",
      " [-2.64850934e-03 -2.62423227e-02 -1.17308457e-01 ...  2.54853139e+04\n",
      "   3.75961401e+00  1.73527259e+01]\n",
      " [-3.18876681e-03 -2.83836579e-02 -1.36953301e-01 ...  2.29654425e+04\n",
      "   4.02855937e+00  1.96930449e+01]]\n"
     ]
    }
   ],
   "source": [
    "smote = Smote(N=2000)\n",
    "synthetic_points = smote.fit(samples)\n",
    "print(synthetic_points)"
   ]
  },
  {
   "cell_type": "markdown",
   "metadata": {},
   "source": [
    "保存数据"
   ]
  },
  {
   "cell_type": "code",
   "execution_count": 8,
   "metadata": {},
   "outputs": [],
   "source": [
    "s_n_1 = np.vstack((samples,synthetic_points))"
   ]
  },
  {
   "cell_type": "code",
   "execution_count": 9,
   "metadata": {},
   "outputs": [],
   "source": [
    "np.savetxt('E:\\exercise_4\\Kmeans/t_n_fequence_feature0328\\SMOTE/result/s_n_1_smote_fequence_feature.csv', s_n_1, delimiter = ',')"
   ]
  },
  {
   "cell_type": "markdown",
   "metadata": {},
   "source": [
    "画图"
   ]
  },
  {
   "cell_type": "code",
   "execution_count": 10,
   "metadata": {},
   "outputs": [],
   "source": [
    "from sklearn.manifold import TSNE \n",
    "\n",
    "#使用TSNE进行降维可视化操作 降为二维\n",
    "tsne=TSNE(2) \n",
    "samples_plot =tsne.fit_transform(samples)\n",
    "synthetic_points_plot =tsne.fit_transform(synthetic_points)"
   ]
  },
  {
   "cell_type": "code",
   "execution_count": 11,
   "metadata": {},
   "outputs": [
    {
     "data": {
      "text/plain": [
       "<matplotlib.legend.Legend at 0x108930ba2b0>"
      ]
     },
     "execution_count": 11,
     "metadata": {},
     "output_type": "execute_result"
    },
    {
     "data": {
      "image/png": "[encoded data removed]",
      "text/plain": [
       "<Figure size 432x288 with 1 Axes>"
      ]
     },
     "metadata": {
      "needs_background": "light"
     },
     "output_type": "display_data"
    }
   ],
   "source": [
    "import matplotlib.pyplot as plt\n",
    "\n",
    "plt.scatter(samples_plot[:,0], samples_plot[:,1])\n",
    "plt.scatter(synthetic_points_plot[:,0], synthetic_points_plot[:,1])\n",
    "plt.legend([\"minority samples\", \"synthetic samples\"])"
   ]
  }
 ],
 "metadata": {
  "interpreter": {
   "hash": "1f8b6ba03da8c1183842b1618cc08da02dfa809c0bdf2baf79f27c6650c5e257"
  },
  "kernelspec": {
   "display_name": "Python 3.6.12 ('pytorch1.6')",
   "language": "python",
   "name": "python3"
  },
  "language_info": {
   "codemirror_mode": {
    "name": "ipython",
    "version": 3
   },
   "file_extension": ".py",
   "mimetype": "text/x-python",
   "name": "python",
   "nbconvert_exporter": "python",
   "pygments_lexer": "ipython3",
   "version": "3.6.12"
  },
  "orig_nbformat": 4
 },
 "nbformat": 4,
 "nbformat_minor": 2
}
