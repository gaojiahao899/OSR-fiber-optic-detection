{
 "cells": [
  {
   "cell_type": "code",
   "execution_count": 1,
   "metadata": {},
   "outputs": [],
   "source": [
    "import random\n",
    "from sklearn.neighbors import NearestNeighbors\n",
    "import numpy as np"
   ]
  },
  {
   "cell_type": "code",
   "execution_count": 2,
   "metadata": {},
   "outputs": [],
   "source": [
    "class Smote(object):\n",
    "    \"\"\"\n",
    "    SMOTE algorithm implementation.\n",
    "    Parameters\n",
    "    ----------\n",
    "    samples : {array-like}, shape = [n_samples, n_features]\n",
    "        Training vector, where n_samples in the number of samples and\n",
    "        n_features is the number of features.\n",
    "    N : int, optional (default = 50)\n",
    "        Parameter N, the percentage of n_samples, affects the amount of final \n",
    "        synthetic samples，which calculated by floor(N/100)*T.\n",
    "    k : int, optional (default = 5)\n",
    "        Specify the number for NearestNeighbors algorithms.\n",
    "        knn参数\n",
    "    r : int, optional (default = 2)\n",
    "        Parameter for sklearn.neighbors.NearestNeighbors API.When r = 1, this \n",
    "        is equivalent to using manhattan_distance (l1), and euclidean_distance \n",
    "        (l2) for r = 2. For arbitrary p, minkowski_distance (l_r) is used.\n",
    "    Examples\n",
    "    --------\n",
    "      >>> samples = np.array([[3,1,2], [4,3,3], [1,3,4],\n",
    "                              [3,3,2], [2,2,1], [1,4,3]])\n",
    "      >>> smote = Smote(N=200)\n",
    "      >>> synthetic_points = smote.fit(samples)\n",
    "      >>> print(synthetic_points)\n",
    "      [[3.31266454 1.62532908 2.31266454]\n",
    "       [2.4178394  1.5821606  2.5821606 ]\n",
    "       [3.354422   2.677211   2.354422  ]\n",
    "       [2.4169074  2.2084537  1.4169074 ]\n",
    "       [1.86018171 2.13981829 3.13981829]\n",
    "       [3.68440949 3.         3.10519684]\n",
    "       [2.22247957 3.         2.77752043]\n",
    "       [2.3339721  2.3339721  1.3339721 ]\n",
    "       [3.31504371 2.65752185 2.31504371]\n",
    "       [2.54247589 2.54247589 1.54247589]\n",
    "       [1.33577795 3.83211103 2.83211103]\n",
    "       [3.85206355 3.04931215 3.        ]]\n",
    "    \"\"\"\n",
    "    def __init__(self, N=50, k=5, r=2):\n",
    "        # 初始化self.N, self.k, self.r, self.newindex\n",
    "        self.N = N\n",
    "        self.k = k\n",
    "        # self.r是距离决定因子\n",
    "        self.r = r\n",
    "        # self.newindex用于记录SMOTE算法已合成的样本个数\n",
    "        self.newindex = 0\n",
    "        \n",
    "    # 构建训练函数\n",
    "    def fit(self, samples):\n",
    "        # 初始化self.samples, self.T, self.numattrs\n",
    "        self.samples = samples\n",
    "        # self.T是少数类样本个数，self.numattrs是少数类样本的特征个数\n",
    "        self.T, self.numattrs = self.samples.shape\n",
    "\n",
    "        # 查看N%是否小于100%\n",
    "        if(self.N < 100):\n",
    "            # 如果是，随机抽取N*T/100个样本，作为新的少数类样本\n",
    "            np.random.shuffle(self.samples)\n",
    "            self.T = int(self.N*self.T/100)\n",
    "            self.samples = self.samples[0:self.T,:]\n",
    "            # N%变成100%\n",
    "            self.N = 100\n",
    "\n",
    "        # 查看从T是否不大于近邻数k\n",
    "        if(self.T <= self.k):\n",
    "            # 若是，k更新为T-1\n",
    "            self.k = self.T - 1\n",
    "\n",
    "        # 令N是100的倍数\n",
    "        N = int(self.N/100)\n",
    "        # 创建保存合成样本的数组\n",
    "        self.synthetic = np.zeros((self.T * N, self.numattrs))\n",
    "\n",
    "        # 调用并设置k近邻函数\n",
    "        neighbors = NearestNeighbors(n_neighbors=self.k+1, \n",
    "                                     algorithm='ball_tree', \n",
    "                                     p=self.r).fit(self.samples)\n",
    "\n",
    "        # 对所有输入样本做循环\n",
    "        for i in range(len(self.samples)):\n",
    "            # 调用kneighbors方法搜索k近邻\n",
    "            nnarray = neighbors.kneighbors(self.samples[i].reshape((1,-1)),\n",
    "                                           return_distance=False)[0][1:]\n",
    "\n",
    "            # 把N,i,nnarray输入样本合成函数self.__populate\n",
    "            self.__populate(N, i, nnarray)\n",
    "\n",
    "        # 最后返回合成样本self.synthetic\n",
    "        return self.synthetic\n",
    "    \n",
    "    # 构建合成样本函数\n",
    "    def __populate(self, N, i, nnarray):\n",
    "        # 按照倍数N做循环\n",
    "        for j in range(N):\n",
    "            # attrs用于保存合成样本的特征\n",
    "            attrs = []\n",
    "            # 随机抽取1～k之间的一个整数，即选择k近邻中的一个样本用于合成数据\n",
    "            nn = random.randint(0, self.k-1)\n",
    "            \n",
    "            # 计算差值\n",
    "            diff = self.samples[nnarray[nn]] - self.samples[i]\n",
    "            # 随机生成一个0～1之间的数\n",
    "            gap = random.uniform(0,1)\n",
    "            # 合成的新样本放入数组self.synthetic\n",
    "            self.synthetic[self.newindex] = self.samples[i] + gap*diff\n",
    "\n",
    "            # self.newindex加1， 表示已合成的样本又多了1个\n",
    "            self.newindex += 1"
   ]
  },
  {
   "cell_type": "markdown",
   "metadata": {},
   "source": [
    "数据加载"
   ]
  },
  {
   "cell_type": "code",
   "execution_count": 3,
   "metadata": {},
   "outputs": [],
   "source": [
    "import numpy as np \n",
    "import pandas as pd "
   ]
  },
  {
   "cell_type": "code",
   "execution_count": 4,
   "metadata": {},
   "outputs": [
    {
     "name": "stdout",
     "output_type": "stream",
     "text": [
      "==> Preparing data..\n"
     ]
    }
   ],
   "source": [
    "print('==> Preparing data..')\n",
    "train_url = \"E:\\exercise_4\\Kmeans/t_n_fequence_feature0328\\SMOTE\\s_n_2_fequence_feature_-label.csv\" \n",
    "names = ['feature0','feature1','feature2','feature3','feature4','feature5',\n",
    "'feature6','feature7','feature8','feature9','feature10','feature11',\n",
    "'feature12','feature13','feature14','feature15',\n",
    "'feature16','feature17','class'] \n",
    "train_dataset = pd.read_csv(train_url, names=names)\n",
    "train_array = train_dataset.values\n",
    "x_train = train_array[:,0:18]\n",
    "y_train = train_array[:,18]"
   ]
  },
  {
   "cell_type": "code",
   "execution_count": 5,
   "metadata": {},
   "outputs": [],
   "source": [
    "samples = x_train"
   ]
  },
  {
   "cell_type": "code",
   "execution_count": 6,
   "metadata": {},
   "outputs": [
    {
     "data": {
      "text/plain": [
       "array([[-4.03450000e-04, -3.90418700e-03,  2.85057090e-02,\n",
       "         1.58312260e-02,  3.88122140e-02,  3.34012690e-02,\n",
       "         2.15625279e-01,  3.22912998e+00,  1.09298236e+01,\n",
       "         7.25277987e+00,  1.09319503e+01,  7.93914959e+00,\n",
       "         8.88698065e+01,  6.60001033e+01,  1.39374807e+02,\n",
       "         5.52051216e+04,  2.02213146e+00,  6.52614569e+00],\n",
       "       [-1.88755800e-03, -1.75530010e-02, -5.81152530e-02,\n",
       "        -5.83707890e-02, -7.87282280e-02, -9.46833940e-02,\n",
       "        -1.30181803e+00,  2.81173634e-01,  1.11106767e+01,\n",
       "         9.98467508e+00,  1.11866825e+01,  9.98863330e+00,\n",
       "         9.66827735e+01,  8.83869474e+01,  7.21915371e+01,\n",
       "         3.07336961e+04,  3.33881243e+00,  1.40028122e+01],\n",
       "       [-6.06643000e-04, -3.24640200e-03,  4.18266130e-02,\n",
       "         2.59792880e-02,  5.72315790e-02,  5.19953370e-02,\n",
       "        -1.06257779e+00,  2.63994675e+00,  1.37821377e+01,\n",
       "         8.56448170e+00,  1.38230384e+01,  8.96212394e+00,\n",
       "         9.44086791e+01,  7.28684201e+01,  1.54650445e+02,\n",
       "         5.90429402e+04,  1.86247144e+00,  5.96839876e+00],\n",
       "       [-7.34254000e-04, -4.05100700e-03,  5.21780730e-02,\n",
       "         3.19233340e-02,  7.15569170e-02,  6.37434930e-02,\n",
       "         9.39450306e-01,  4.19135623e+00,  1.61790369e+01,\n",
       "         1.35354026e+01,  1.62062890e+01,  1.41694950e+01,\n",
       "         8.66768007e+01,  7.27944019e+01,  1.48725653e+02,\n",
       "         5.75725646e+04,  1.92304198e+00,  6.16897775e+00],\n",
       "       [-6.42366000e-04, -3.76487000e-03,  2.31063270e-02,\n",
       "         1.23805590e-02,  3.17577180e-02,  2.67348320e-02,\n",
       "        -7.31755333e-01,  1.15823462e+00,  9.69070334e+00,\n",
       "         5.83697910e+00,  9.71829188e+00,  5.95078419e+00,\n",
       "         9.43182703e+01,  7.87765612e+01,  1.42897437e+02,\n",
       "         5.60928450e+04,  1.98434656e+00,  6.38634976e+00],\n",
       "       [-4.25923000e-04, -4.88263600e-03,  4.91451320e-02,\n",
       "         2.84808190e-02,  6.70197690e-02,  5.79345580e-02,\n",
       "        -2.11464012e+00,  3.32064522e+00,  1.36213530e+01,\n",
       "         1.00754748e+01,  1.37845189e+01,  1.06085756e+01,\n",
       "         9.88244125e+01,  7.17589664e+01,  1.46851911e+02,\n",
       "         5.70722246e+04,  1.94376146e+00,  6.24152598e+00]])"
      ]
     },
     "execution_count": 6,
     "metadata": {},
     "output_type": "execute_result"
    }
   ],
   "source": [
    "samples"
   ]
  },
  {
   "cell_type": "code",
   "execution_count": 7,
   "metadata": {},
   "outputs": [
    {
     "name": "stdout",
     "output_type": "stream",
     "text": [
      "[[-4.28554446e-04 -3.88954806e-03  2.79383611e-02 ...  5.52984004e+04\n",
      "   2.01816116e+00  6.51145643e+00]\n",
      " [-8.37925631e-04 -7.89990502e-03  3.14724644e-03 ...  4.80410620e+04\n",
      "   2.40759249e+00  8.71495498e+00]\n",
      " [-4.19702278e-04 -4.61179281e-03  4.34319602e-02 ...  5.65553942e+04\n",
      "   1.96545496e+00  6.32031119e+00]\n",
      " ...\n",
      " [-1.05845800e-03 -1.03658444e-02  2.72728676e-03 ...  4.56740020e+04\n",
      "   2.54748165e+00  9.60028869e+00]\n",
      " [-5.51228125e-04 -4.54466358e-03  5.03777134e-02 ...  5.72755618e+04\n",
      "   1.93534111e+00  6.21204252e+00]\n",
      " [-4.99779118e-04 -4.68343161e-03  4.98716280e-02 ...  5.71920736e+04\n",
      "   1.93879842e+00  6.22414813e+00]]\n"
     ]
    }
   ],
   "source": [
    "smote = Smote(N=2000)\n",
    "synthetic_points = smote.fit(samples)\n",
    "print(synthetic_points)"
   ]
  },
  {
   "cell_type": "markdown",
   "metadata": {},
   "source": [
    "保存数据"
   ]
  },
  {
   "cell_type": "code",
   "execution_count": 8,
   "metadata": {},
   "outputs": [],
   "source": [
    "s_n_2 = np.vstack((samples,synthetic_points))"
   ]
  },
  {
   "cell_type": "code",
   "execution_count": 9,
   "metadata": {},
   "outputs": [],
   "source": [
    "np.savetxt('E:\\exercise_4\\Kmeans/t_n_fequence_feature0328\\SMOTE/result/s_n_2_smote_fequence_feature.csv', s_n_2, delimiter = ',')"
   ]
  },
  {
   "cell_type": "markdown",
   "metadata": {},
   "source": [
    "画图"
   ]
  },
  {
   "cell_type": "code",
   "execution_count": 10,
   "metadata": {},
   "outputs": [],
   "source": [
    "from sklearn.manifold import TSNE \n",
    "\n",
    "#使用TSNE进行降维可视化操作 降为二维\n",
    "tsne=TSNE(2) \n",
    "samples_plot =tsne.fit_transform(samples)\n",
    "synthetic_points_plot =tsne.fit_transform(synthetic_points)"
   ]
  },
  {
   "cell_type": "code",
   "execution_count": 11,
   "metadata": {},
   "outputs": [
    {
     "data": {
      "text/plain": [
       "<matplotlib.legend.Legend at 0x279aebdc208>"
      ]
     },
     "execution_count": 11,
     "metadata": {},
     "output_type": "execute_result"
    },
    {
     "data": {
      "image/png": "[encoded data removed]",
      "text/plain": [
       "<Figure size 432x288 with 1 Axes>"
      ]
     },
     "metadata": {
      "needs_background": "light"
     },
     "output_type": "display_data"
    }
   ],
   "source": [
    "import matplotlib.pyplot as plt\n",
    "\n",
    "plt.scatter(samples_plot[:,0], samples_plot[:,1])\n",
    "plt.scatter(synthetic_points_plot[:,0], synthetic_points_plot[:,1])\n",
    "plt.legend([\"minority samples\", \"synthetic samples\"])"
   ]
  }
 ],
 "metadata": {
  "interpreter": {
   "hash": "1f8b6ba03da8c1183842b1618cc08da02dfa809c0bdf2baf79f27c6650c5e257"
  },
  "kernelspec": {
   "display_name": "Python 3.6.12 ('pytorch1.6')",
   "language": "python",
   "name": "python3"
  },
  "language_info": {
   "codemirror_mode": {
    "name": "ipython",
    "version": 3
   },
   "file_extension": ".py",
   "mimetype": "text/x-python",
   "name": "python",
   "nbconvert_exporter": "python",
   "pygments_lexer": "ipython3",
   "version": "3.6.12"
  },
  "orig_nbformat": 4
 },
 "nbformat": 4,
 "nbformat_minor": 2
}
