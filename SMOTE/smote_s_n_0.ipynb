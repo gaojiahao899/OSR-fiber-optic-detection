{
 "cells": [
  {
   "cell_type": "code",
   "execution_count": 1,
   "metadata": {},
   "outputs": [],
   "source": [
    "import random\n",
    "from sklearn.neighbors import NearestNeighbors\n",
    "import numpy as np"
   ]
  },
  {
   "cell_type": "code",
   "execution_count": 2,
   "metadata": {},
   "outputs": [],
   "source": [
    "class Smote(object):\n",
    "    \"\"\"\n",
    "    SMOTE algorithm implementation.\n",
    "    Parameters\n",
    "    ----------\n",
    "    samples : {array-like}, shape = [n_samples, n_features]\n",
    "        Training vector, where n_samples in the number of samples and\n",
    "        n_features is the number of features.\n",
    "    N : int, optional (default = 50)\n",
    "        Parameter N, the percentage of n_samples, affects the amount of final \n",
    "        synthetic samples，which calculated by floor(N/100)*T.\n",
    "    k : int, optional (default = 5)\n",
    "        Specify the number for NearestNeighbors algorithms.\n",
    "        knn参数\n",
    "    r : int, optional (default = 2)\n",
    "        Parameter for sklearn.neighbors.NearestNeighbors API.When r = 1, this \n",
    "        is equivalent to using manhattan_distance (l1), and euclidean_distance \n",
    "        (l2) for r = 2. For arbitrary p, minkowski_distance (l_r) is used.\n",
    "    Examples\n",
    "    --------\n",
    "      >>> samples = np.array([[3,1,2], [4,3,3], [1,3,4],\n",
    "                              [3,3,2], [2,2,1], [1,4,3]])\n",
    "      >>> smote = Smote(N=200)\n",
    "      >>> synthetic_points = smote.fit(samples)\n",
    "      >>> print(synthetic_points)\n",
    "      [[3.31266454 1.62532908 2.31266454]\n",
    "       [2.4178394  1.5821606  2.5821606 ]\n",
    "       [3.354422   2.677211   2.354422  ]\n",
    "       [2.4169074  2.2084537  1.4169074 ]\n",
    "       [1.86018171 2.13981829 3.13981829]\n",
    "       [3.68440949 3.         3.10519684]\n",
    "       [2.22247957 3.         2.77752043]\n",
    "       [2.3339721  2.3339721  1.3339721 ]\n",
    "       [3.31504371 2.65752185 2.31504371]\n",
    "       [2.54247589 2.54247589 1.54247589]\n",
    "       [1.33577795 3.83211103 2.83211103]\n",
    "       [3.85206355 3.04931215 3.        ]]\n",
    "    \"\"\"\n",
    "    def __init__(self, N=50, k=5, r=2):\n",
    "        # 初始化self.N, self.k, self.r, self.newindex\n",
    "        self.N = N\n",
    "        self.k = k\n",
    "        # self.r是距离决定因子\n",
    "        self.r = r\n",
    "        # self.newindex用于记录SMOTE算法已合成的样本个数\n",
    "        self.newindex = 0\n",
    "        \n",
    "    # 构建训练函数\n",
    "    def fit(self, samples):\n",
    "        # 初始化self.samples, self.T, self.numattrs\n",
    "        self.samples = samples\n",
    "        # self.T是少数类样本个数，self.numattrs是少数类样本的特征个数\n",
    "        self.T, self.numattrs = self.samples.shape\n",
    "\n",
    "        # 查看N%是否小于100%\n",
    "        if(self.N < 100):\n",
    "            # 如果是，随机抽取N*T/100个样本，作为新的少数类样本\n",
    "            np.random.shuffle(self.samples)\n",
    "            self.T = int(self.N*self.T/100)\n",
    "            self.samples = self.samples[0:self.T,:]\n",
    "            # N%变成100%\n",
    "            self.N = 100\n",
    "\n",
    "        # 查看从T是否不大于近邻数k\n",
    "        if(self.T <= self.k):\n",
    "            # 若是，k更新为T-1\n",
    "            self.k = self.T - 1\n",
    "\n",
    "        # 令N是100的倍数\n",
    "        N = int(self.N/100)\n",
    "        # 创建保存合成样本的数组\n",
    "        self.synthetic = np.zeros((self.T * N, self.numattrs))\n",
    "\n",
    "        # 调用并设置k近邻函数\n",
    "        neighbors = NearestNeighbors(n_neighbors=self.k+1, \n",
    "                                     algorithm='ball_tree', \n",
    "                                     p=self.r).fit(self.samples)\n",
    "\n",
    "        # 对所有输入样本做循环\n",
    "        for i in range(len(self.samples)):\n",
    "            # 调用kneighbors方法搜索k近邻\n",
    "            nnarray = neighbors.kneighbors(self.samples[i].reshape((1,-1)),\n",
    "                                           return_distance=False)[0][1:]\n",
    "\n",
    "            # 把N,i,nnarray输入样本合成函数self.__populate\n",
    "            self.__populate(N, i, nnarray)\n",
    "\n",
    "        # 最后返回合成样本self.synthetic\n",
    "        return self.synthetic\n",
    "    \n",
    "    # 构建合成样本函数\n",
    "    def __populate(self, N, i, nnarray):\n",
    "        # 按照倍数N做循环\n",
    "        for j in range(N):\n",
    "            # attrs用于保存合成样本的特征\n",
    "            attrs = []\n",
    "            # 随机抽取1～k之间的一个整数，即选择k近邻中的一个样本用于合成数据\n",
    "            nn = random.randint(0, self.k-1)\n",
    "            \n",
    "            # 计算差值\n",
    "            diff = self.samples[nnarray[nn]] - self.samples[i]\n",
    "            # 随机生成一个0～1之间的数\n",
    "            gap = random.uniform(0,1)\n",
    "            # 合成的新样本放入数组self.synthetic\n",
    "            self.synthetic[self.newindex] = self.samples[i] + gap*diff\n",
    "\n",
    "            # self.newindex加1， 表示已合成的样本又多了1个\n",
    "            self.newindex += 1"
   ]
  },
  {
   "cell_type": "markdown",
   "metadata": {},
   "source": [
    "数据加载"
   ]
  },
  {
   "cell_type": "code",
   "execution_count": 3,
   "metadata": {},
   "outputs": [],
   "source": [
    "import numpy as np \n",
    "import pandas as pd "
   ]
  },
  {
   "cell_type": "code",
   "execution_count": 4,
   "metadata": {},
   "outputs": [
    {
     "name": "stdout",
     "output_type": "stream",
     "text": [
      "==> Preparing data..\n"
     ]
    }
   ],
   "source": [
    "print('==> Preparing data..')\n",
    "train_url = \"E:\\exercise_4\\Kmeans/t_n_fequence_feature0328\\SMOTE\\s_n_0_fequence_feature_-label .csv\" \n",
    "names = ['feature0','feature1','feature2','feature3','feature4','feature5',\n",
    "'feature6','feature7','feature8','feature9','feature10','feature11',\n",
    "'feature12','feature13','feature14','feature15',\n",
    "'feature16','feature17','class'] \n",
    "train_dataset = pd.read_csv(train_url, names=names)\n",
    "train_array = train_dataset.values\n",
    "x_train = train_array[:,0:18]\n",
    "y_train = train_array[:,18]"
   ]
  },
  {
   "cell_type": "code",
   "execution_count": 5,
   "metadata": {},
   "outputs": [],
   "source": [
    "samples = x_train"
   ]
  },
  {
   "cell_type": "code",
   "execution_count": 6,
   "metadata": {},
   "outputs": [
    {
     "data": {
      "text/plain": [
       "array([[-3.60775600e-03, -1.65892240e-02, -1.13914450e-02,\n",
       "        -1.99564110e-02, -1.43960490e-02, -2.13695800e-02,\n",
       "         2.24087000e-04,  1.03349500e-03,  4.03573400e-03,\n",
       "        -7.35312800e-03,  4.04195000e-03,  7.42540200e-03,\n",
       "         8.68218699e+01, -8.19993881e+01,  1.81084940e+02,\n",
       "         4.60538354e+04,  2.14034562e+00,  8.27020658e+00],\n",
       "       [ 8.40482500e-03,  2.17286560e-02,  1.78824210e-02,\n",
       "         2.10652980e-02,  2.06099170e-02,  1.70140870e-02,\n",
       "        -6.73567100e-03,  1.21941100e-03,  4.65930790e-02,\n",
       "         2.40137570e-02,  4.70774290e-02,  2.40446970e-02,\n",
       "         9.82259063e+01,  8.70930343e+01,  1.64914419e+02,\n",
       "         1.83091845e+04,  3.49435204e+00,  2.32231019e+01],\n",
       "       [-2.88939800e-03, -2.08296350e-02, -2.33484910e-02,\n",
       "        -3.59778240e-02, -3.10217830e-02, -4.88420140e-02,\n",
       "        -7.31501200e-03,  6.96753300e-03,  3.01337000e-02,\n",
       "        -7.86838570e-02,  3.10088580e-02,  7.89917460e-02,\n",
       "         1.03644722e+02, -8.49396015e+01,  2.30927544e+02,\n",
       "         6.90745600e+04,  1.35983562e+00,  5.50239041e+00],\n",
       "       [-4.00494000e-03, -1.52612450e-02, -1.07597170e-02,\n",
       "        -1.83020500e-02, -1.26650430e-02, -1.96343480e-02,\n",
       "         9.83980000e-04,  1.80439800e-03,  7.65524800e-03,\n",
       "        -7.21341500e-03,  7.71822800e-03,  7.43567100e-03,\n",
       "         8.26755530e+01, -7.59559485e+01,  1.94826076e+02,\n",
       "         4.67998387e+04,  2.06646187e+00,  8.37642104e+00],\n",
       "       [-5.07350300e-03, -2.21470550e-02, -1.47401580e-02,\n",
       "        -2.69202920e-02, -1.79842590e-02, -2.93729220e-02,\n",
       "        -6.05584000e-04,  3.55696000e-04,  3.24591200e-03,\n",
       "        -5.27863000e-03,  3.30192100e-03,  5.29060000e-03,\n",
       "         1.00568074e+02, -8.61450054e+01,  1.94354089e+02,\n",
       "         4.75638612e+04,  2.04204645e+00,  8.18463709e+00],\n",
       "       [ 4.29313000e-04, -3.43673100e-03, -2.76557800e-03,\n",
       "        -7.03081200e-03, -4.24854300e-03, -1.05268860e-02,\n",
       "        -3.69715300e-03,  2.80437200e-03,  1.18360130e-02,\n",
       "        -9.62766400e-03,  1.24000060e-02,  1.00277820e-02,\n",
       "         1.07346964e+02, -7.37600729e+01,  1.58894819e+02,\n",
       "         3.82553458e+04,  2.53827860e+00,  1.01060688e+01],\n",
       "       [ 1.87281300e-03, -5.32828400e-03, -2.61515000e-04,\n",
       "        -5.78333900e-03, -3.83718600e-03, -5.26596900e-03,\n",
       "         4.14000000e-05,  1.88299000e-04,  9.51515000e-04,\n",
       "        -9.64445000e-04,  9.52418000e-04,  9.82655000e-04,\n",
       "         8.75056977e+01, -7.89525096e+01,  1.97511956e+02,\n",
       "         1.34320792e+04,  3.87056818e+00,  4.58990744e+01],\n",
       "       [-2.03730120e-02, -1.21862100e-03, -2.73389300e-02,\n",
       "         4.09814600e-03, -1.78156180e-02,  9.46621900e-03,\n",
       "        -3.61921300e-03,  6.53978000e-04,  2.47771020e-02,\n",
       "         1.23493800e-02,  2.50400380e-02,  1.23666840e-02,\n",
       "         9.83104720e+01,  8.69686583e+01,  2.06046312e+02,\n",
       "         1.34932379e+04,  3.89421358e+00,  5.02408379e+01],\n",
       "       [ 3.76425000e-04, -4.88662800e-03, -1.13224100e-03,\n",
       "        -5.67508800e-03, -2.69619300e-03, -5.75331800e-03,\n",
       "        -2.36556000e-04,  2.07116000e-04,  1.70208500e-03,\n",
       "        -1.02631200e-03,  1.71844500e-03,  1.04700200e-03,\n",
       "         9.79122797e+01, -7.85905869e+01,  1.98445244e+02,\n",
       "         1.76093206e+04,  3.47955395e+00,  3.17714315e+01],\n",
       "       [-1.41870300e-03,  1.77222400e-03, -5.02760000e-04,\n",
       "         1.35199700e-03,  1.89217500e-03,  4.42805000e-04,\n",
       "         2.58282000e-04,  4.66503000e-04,  2.49876000e-03,\n",
       "        -9.25955000e-04,  2.51207300e-03,  1.03683100e-03,\n",
       "         8.40986357e+01, -6.32607011e+01,  1.91882333e+02,\n",
       "         1.09862486e+04,  4.29229646e+00,  5.87820884e+01],\n",
       "       [-3.68561000e-03, -5.44277300e-03, -6.82051100e-03,\n",
       "        -4.62129100e-03, -6.96693700e-03, -2.82636400e-03,\n",
       "        -1.47377000e-04,  8.40000000e-05,  9.95526000e-04,\n",
       "        -8.61563000e-04,  1.00637500e-03,  8.65651000e-04,\n",
       "         9.84208881e+01, -8.44297493e+01,  2.04334149e+02,\n",
       "         1.53670394e+04,  3.78827211e+00,  4.13293916e+01],\n",
       "       [ 5.27060700e-03,  1.20827600e-02,  1.13613080e-02,\n",
       "         9.82394300e-03,  1.36917920e-02,  5.13830200e-03,\n",
       "        -7.61352000e-04,  5.63883000e-04,  3.11436200e-03,\n",
       "        -6.09144000e-04,  3.20607300e-03,  8.30073000e-04,\n",
       "         1.03737363e+02, -4.72096620e+01,  1.92116711e+02,\n",
       "         1.50486553e+04,  4.05415547e+00,  3.88788656e+01],\n",
       "       [ 2.99818400e-03, -1.97385000e-04,  1.73845100e-03,\n",
       "        -5.54719000e-04, -1.53206900e-03, -8.27833000e-04,\n",
       "         1.07000000e-05,  4.82000000e-05,  3.00134000e-04,\n",
       "        -1.42376000e-04,  3.00324000e-04,  1.50308000e-04,\n",
       "         8.79658528e+01, -7.13032271e+01,  3.46930135e+02,\n",
       "         1.03116502e+04,  2.46985248e+00,  4.22120422e+02],\n",
       "       [-1.32197800e-03,  3.65000000e-05, -3.37351600e-03,\n",
       "         2.75339000e-04, -2.74881700e-03,  4.90634000e-04,\n",
       "        -1.01609200e-03,  1.82740000e-04,  6.92626000e-03,\n",
       "         3.39518000e-03,  7.00039400e-03,  3.40009400e-03,\n",
       "         9.83458419e+01,  8.69191258e+01,  3.36874655e+02,\n",
       "         8.78580278e+03,  2.99107787e+00,  5.17808511e+02],\n",
       "       [ 1.25784000e-04, -1.77416000e-04, -1.31503000e-04,\n",
       "        -2.22430000e-04, -3.43773000e-04, -2.42235000e-04,\n",
       "        -3.90000000e-05,  3.37000000e-05,  3.05452000e-04,\n",
       "        -1.18337000e-04,  3.07933000e-04,  1.23045000e-04,\n",
       "         9.72785037e+01, -7.40988742e+01,  4.04252489e+02,\n",
       "         9.45241045e+03,  1.98421423e+00,  9.08926515e+02],\n",
       "       [-2.87428000e-04, -1.57370000e-04, -6.47258000e-04,\n",
       "        -6.15000000e-05, -9.85180000e-04,  4.14000000e-05,\n",
       "         7.27000000e-05,  1.30530000e-04,  7.29049000e-04,\n",
       "        -2.10096000e-04,  7.32668000e-04,  2.47342000e-04,\n",
       "         8.43028256e+01, -5.81478836e+01,  3.32870216e+02,\n",
       "         1.05036055e+04,  2.93919507e+00,  3.49311342e+02],\n",
       "       [ 1.33281000e-03, -1.87551000e-04,  2.26858000e-04,\n",
       "        -2.75845000e-04, -1.82770300e-03, -3.15876000e-04,\n",
       "        -3.76000000e-05,  2.10000000e-05,  2.97694000e-04,\n",
       "        -1.29510000e-04,  3.00054000e-04,  1.31196000e-04,\n",
       "         9.71897411e+01, -8.08045381e+01,  3.54055183e+02,\n",
       "         1.11710765e+04,  2.64200920e+00,  3.91787478e+02],\n",
       "       [ 6.84624400e-03,  2.83656000e-04,  6.40268800e-03,\n",
       "        -5.59070000e-04,  1.43661000e-04, -1.31576300e-03,\n",
       "        -3.50424000e-04,  2.58605000e-04,  1.41946100e-03,\n",
       "        -3.07450000e-04,  1.46207700e-03,  4.01748000e-04,\n",
       "         1.03867389e+02, -4.99318549e+01,  2.79182297e+02,\n",
       "         1.66645561e+04,  2.88910147e+00,  7.84465911e+01],\n",
       "       [ 7.96000000e-05, -2.68000000e-05, -7.52500000e-04,\n",
       "        -1.04312000e-04, -7.11523000e-04, -1.63931000e-04,\n",
       "         1.89000000e-06,  8.50000000e-06,  5.62000000e-05,\n",
       "        -1.94000000e-05,  5.62000000e-05,  2.12000000e-05,\n",
       "         8.80758773e+01, -6.63115200e+01,  7.60086218e+02,\n",
       "         7.95170115e+03, -1.73187071e+00,  1.58483850e+04],\n",
       "       [ 2.84697000e-04,  1.92000000e-05, -4.21788000e-04,\n",
       "        -4.17000000e-06, -8.92755000e-04, -2.35000000e-05,\n",
       "        -2.62690000e-04,  4.70000000e-05,  1.80453300e-03,\n",
       "         9.04134000e-04,  1.82355300e-03,  9.05355000e-04,\n",
       "         9.82824941e+01,  8.70242368e+01,  6.24013940e+02,\n",
       "         8.75220958e+03,  5.98651930e-02,  5.94554941e+03],\n",
       "       [ 2.08000000e-05, -5.72000000e-05,  6.02000000e-05,\n",
       "        -6.04000000e-05, -3.40000000e-05, -5.80000000e-05,\n",
       "        -1.55000000e-05,  1.33000000e-05,  1.21388000e-04,\n",
       "        -4.63000000e-05,  1.22370000e-04,  4.82000000e-05,\n",
       "         9.72623803e+01, -7.39282382e+01,  6.29494560e+02,\n",
       "         8.83714300e+03, -2.34199540e-01,  6.04038932e+03],\n",
       "       [-1.34432200e-03, -3.92000000e-05,  1.25986000e-03,\n",
       "         8.87000000e-05,  2.84638100e-03,  1.93104000e-04,\n",
       "         3.03000000e-05,  5.43000000e-05,  2.92878000e-04,\n",
       "        -1.09160000e-04,  2.94443000e-04,  1.21932000e-04,\n",
       "         8.40894496e+01, -6.35411474e+01,  5.00358269e+02,\n",
       "         9.68768746e+03,  1.40341335e+00,  2.01260571e+03],\n",
       "       [-1.44669000e-04, -3.54000000e-05,  9.62615000e-04,\n",
       "         3.20000000e-05,  7.97489000e-04,  9.05000000e-05,\n",
       "        -1.09000000e-05,  6.13000000e-06,  7.74000000e-05,\n",
       "        -5.58000000e-05,  7.81000000e-05,  5.61000000e-05,\n",
       "         9.80170428e+01, -8.37290342e+01,  6.19381656e+02,\n",
       "         9.74040214e+03,  6.34243040e-02,  4.66122517e+03],\n",
       "       [ 7.97333400e-03,  4.29000000e-05,  3.21020200e-03,\n",
       "        -5.42452000e-04, -7.52132200e-03, -1.02489500e-03,\n",
       "        -1.79945000e-04,  1.32288000e-04,  7.54440000e-04,\n",
       "        -1.06116000e-04,  7.75603000e-04,  1.69589000e-04,\n",
       "         1.03415239e+02, -3.87351435e+01,  3.74667129e+02,\n",
       "         1.45767775e+04,  2.33822654e+00,  2.88973308e+02]])"
      ]
     },
     "execution_count": 6,
     "metadata": {},
     "output_type": "execute_result"
    }
   ],
   "source": [
    "samples"
   ]
  },
  {
   "cell_type": "code",
   "execution_count": 7,
   "metadata": {},
   "outputs": [
    {
     "name": "stdout",
     "output_type": "stream",
     "text": [
      "[[-3.46609112e-03 -1.74254607e-02 -1.37494524e-02 ...  5.05936722e+04\n",
      "   1.98642397e+00  7.72437520e+00]\n",
      " [-3.69275657e-03 -1.63050258e-02 -1.12562501e-02 ...  4.62134861e+04\n",
      "   2.12453391e+00  8.29293732e+00]\n",
      " [-1.01558672e-03 -8.14411486e-03 -5.85284572e-03 ...  4.10464884e+04\n",
      "   2.39585516e+00  9.44899885e+00]\n",
      " ...\n",
      " [-2.00475002e-02 -1.20413448e-03 -2.69881228e-02 ...  1.35056806e+04\n",
      "   3.87634559e+00  5.29822927e+01]\n",
      " [ 5.69233165e-03  1.02040997e-02  1.00894362e-02 ...  1.49750251e+04\n",
      "   3.78640755e+00  7.79027819e+01]\n",
      " [ 2.85473136e-03 -4.46375715e-03  2.97280334e-04 ...  1.36163258e+04\n",
      "   3.62392787e+00  8.50234464e+01]]\n"
     ]
    }
   ],
   "source": [
    "smote = Smote(N=500)\n",
    "synthetic_points = smote.fit(samples)\n",
    "print(synthetic_points)"
   ]
  },
  {
   "cell_type": "markdown",
   "metadata": {},
   "source": [
    "保存数据"
   ]
  },
  {
   "cell_type": "code",
   "execution_count": 10,
   "metadata": {},
   "outputs": [],
   "source": [
    "s_n_0 = np.vstack((samples,synthetic_points))"
   ]
  },
  {
   "cell_type": "code",
   "execution_count": 11,
   "metadata": {},
   "outputs": [],
   "source": [
    "np.savetxt('E:\\exercise_4\\Kmeans/t_n_fequence_feature0328\\SMOTE/result/s_n_0_smote_fequence_feature.csv', s_n_0, delimiter = ',')"
   ]
  },
  {
   "cell_type": "markdown",
   "metadata": {},
   "source": [
    "画图"
   ]
  },
  {
   "cell_type": "code",
   "execution_count": 12,
   "metadata": {},
   "outputs": [],
   "source": [
    "from sklearn.manifold import TSNE \n",
    "\n",
    "#使用TSNE进行降维可视化操作 降为二维\n",
    "tsne=TSNE(2) \n",
    "samples_plot =tsne.fit_transform(samples)\n",
    "synthetic_points_plot =tsne.fit_transform(synthetic_points)"
   ]
  },
  {
   "cell_type": "code",
   "execution_count": 13,
   "metadata": {},
   "outputs": [
    {
     "data": {
      "text/plain": [
       "<matplotlib.legend.Legend at 0x1ffc124e1d0>"
      ]
     },
     "execution_count": 13,
     "metadata": {},
     "output_type": "execute_result"
    },
    {
     "data": {
      "image/png": "[encoded data removed]",
      "text/plain": [
       "<Figure size 432x288 with 1 Axes>"
      ]
     },
     "metadata": {
      "needs_background": "light"
     },
     "output_type": "display_data"
    }
   ],
   "source": [
    "import matplotlib.pyplot as plt\n",
    "\n",
    "plt.scatter(samples_plot[:,0], samples_plot[:,1])\n",
    "plt.scatter(synthetic_points_plot[:,0], synthetic_points_plot[:,1])\n",
    "plt.legend([\"minority samples\", \"synthetic samples\"])"
   ]
  }
 ],
 "metadata": {
  "interpreter": {
   "hash": "1f8b6ba03da8c1183842b1618cc08da02dfa809c0bdf2baf79f27c6650c5e257"
  },
  "kernelspec": {
   "display_name": "Python 3.6.12 ('pytorch1.6')",
   "language": "python",
   "name": "python3"
  },
  "language_info": {
   "codemirror_mode": {
    "name": "ipython",
    "version": 3
   },
   "file_extension": ".py",
   "mimetype": "text/x-python",
   "name": "python",
   "nbconvert_exporter": "python",
   "pygments_lexer": "ipython3",
   "version": "3.6.12"
  },
  "orig_nbformat": 4
 },
 "nbformat": 4,
 "nbformat_minor": 2
}
